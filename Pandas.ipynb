{
 "cells": [
  {
   "cell_type": "code",
   "execution_count": null,
   "metadata": {},
   "outputs": [],
   "source": [
    "import pandas as pd\n",
    "url=\"https://api.github.com/repos/pandas-dev/pandas/issues\"\n",
    "df=pd.read_json(url)\n",
    "import requests\n",
    "data=requests.get(url)\n",
    "data\n",
    "df=data.json()\n",
    "df\n",
    "df1=pd.DataFrame(df,columns=['id','url','repository_url','labels_url','user'])\n",
    "len(df1) #len of df1 data frame\n",
    "type(df1)\n",
    "df1\n",
    "new=[]\n",
    "for i in df1['user']:\n",
    "    new.append(i)\n",
    "df2=pd.DataFrame(new)    \n",
    "len(df2)\n",
    "type(df2)\n",
    "df2\n",
    "result = pd.concat([df1, df2], axis=1, join='inner')\n",
    "result\n"
   ]
  }
 ],
 "metadata": {
  "language_info": {
   "name": "python"
  },
  "orig_nbformat": 4
 },
 "nbformat": 4,
 "nbformat_minor": 2
}

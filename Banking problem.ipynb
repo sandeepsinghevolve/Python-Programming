{
 "cells": [
  {
   "cell_type": "code",
   "execution_count": null,
   "metadata": {},
   "outputs": [],
   "source": [
    "1.How many campaigns avaliable in this data set.\n",
    "2.How many users do we have housing and personal loan.\n",
    "3.How many persons do we have whose age is 60+.\n",
    "4.In which month we have targeted most of the customer.\n",
    "5.which mode of call is giving you more results?\n",
    "6.How many entrepreneur do we have in this list?\n",
    "7.How many customers do we have with negative balance?\n",
    "8.Prepare group of data based on the education label.\n",
    "# dataset link - https://archive.ics.uci.edu/ml/datasets/Bank+Marketing\n",
    "import pandas as pd\n",
    "df=pd.read_csv('bank.csv',sep=\";\")\n",
    "df.head()\n",
    "# 1.How many campaigns avaliable in this data set.\n",
    "no_of_unique_campings=[]\n",
    "for i in df['campaign']:\n",
    "    if i not in no_of_unique_campings:\n",
    "        no_of_unique_campings.append(i)\n",
    "no_of_unique_campings\n",
    "len(no_of_unique_campings)\n",
    "# 2.How many users do we have housing and personal loan.\n",
    "df[(df['housing']=='yes') & (df['loan']=='yes')]\n",
    "len(df[(df['housing']=='yes') & (df['loan']=='yes')])\n",
    "# 3.How many persons do we have whose age is 60+.\n",
    "df[df['age']>60]\n",
    "len(df[df['age']>60])\n",
    "# 4.In which month we have targeted most of the customer.\n",
    "\n",
    "df[df['duration']==max(df['duration'])]\n",
    "df[df['duration']==max(df['duration'])]['month']\n",
    "# 5.which mode of call is giving you more results?\n",
    "\n",
    "len(df[df['contact']=='cellular']) # cellular mode is giving more reulsts\n",
    "len(df[df['contact']=='telephone'])\n",
    "# 6.How many entrepreneur do we have in this list?\n",
    "\n",
    "len(df[df['job']=='entrepreneur'])\n",
    "# 7.How many customers do we have with negative balance?\n",
    "\n",
    "df[df['balance']<0]\n",
    "len(df[df['balance']<0])\n",
    "# 8.Prepare group of data based on the education label.\n",
    "grp=df.groupby(\"job\")['job'].count()\n",
    "x\n"
   ]
  }
 ],
 "metadata": {
  "language_info": {
   "name": "python"
  },
  "orig_nbformat": 4
 },
 "nbformat": 4,
 "nbformat_minor": 2
}
